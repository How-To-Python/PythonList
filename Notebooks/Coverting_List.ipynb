{
 "cells": [
  {
   "cell_type": "markdown",
   "id": "0b661525",
   "metadata": {},
   "source": [
    "## 🔄 Converting Between Lists and Other Data Types\n",
    "\n",
    "Learn how to convert lists to other data types and vice versa.\n",
    "\n",
    "## 🎯 How to Use This Notebook\n",
    "\n",
    "1. **Run each cell** by pressing `Shift + Enter`\n",
    "2. **Experiment** with the code examples\n",
    "3. **Try variations** to deepen your understanding\n",
    "4. **Practice** with the exercises provided"
   ]
  },
  {
   "cell_type": "code",
   "execution_count": null,
   "id": "25b9e499",
   "metadata": {},
   "outputs": [],
   "source": [
    "# 12.1 List to String\n",
    "words = [\"Python\", \"is\", \"awesome\"]\n",
    "sentence = \" \".join(words)\n",
    "print(f\"List: {words}\")\n",
    "print(f\"String: '{sentence}'\")\n",
    "\n",
    "# Different separators\n",
    "csv_format = \",\".join(words)\n",
    "dashed = \"-\".join(words)\n",
    "print(f\"CSV format: '{csv_format}'\")\n",
    "print(f\"Dashed: '{dashed}'\")\n",
    "\n",
    "# 12.2 String to List\n",
    "text = \"Python is awesome\"\n",
    "word_list = text.split()\n",
    "print(f\"\\nString: '{text}'\")\n",
    "print(f\"Split to list: {word_list}\")\n",
    "\n",
    "# Split with specific separator\n",
    "csv_text = \"apple,banana,cherry\"\n",
    "fruit_list = csv_text.split(\",\")\n",
    "print(f\"CSV text: '{csv_text}'\")\n",
    "print(f\"Split by comma: {fruit_list}\")\n",
    "\n",
    "# 12.3 List to Tuple and vice versa\n",
    "my_list = [1, 2, 3, 4]\n",
    "my_tuple = tuple(my_list)\n",
    "back_to_list = list(my_tuple)\n",
    "\n",
    "print(f\"\\nList: {my_list}\")\n",
    "print(f\"Tuple: {my_tuple}\")\n",
    "print(f\"Back to list: {back_to_list}\")\n",
    "\n",
    "# 12.4 List to Set and vice versa\n",
    "with_duplicates = [1, 2, 2, 3, 3, 4]\n",
    "unique_set = set(with_duplicates)\n",
    "back_to_list = list(unique_set)\n",
    "\n",
    "print(f\"\\nWith duplicates: {with_duplicates}\")\n",
    "print(f\"As set: {unique_set}\")\n",
    "print(f\"Back to list: {back_to_list}\")  # Order may change!"
   ]
  }
 ],
 "metadata": {
  "language_info": {
   "name": "python"
  }
 },
 "nbformat": 4,
 "nbformat_minor": 5
}
