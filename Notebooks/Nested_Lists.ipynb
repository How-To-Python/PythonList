{
 "cells": [
  {
   "cell_type": "markdown",
   "id": "b4bc4431",
   "metadata": {},
   "source": [
    "## 📦 Nested Lists\n",
    "\n",
    "Work with lists containing other lists.\n",
    "\n",
    "## 🎯 How to Use This Notebook\n",
    "\n",
    "1. **Run each cell** by pressing `Shift + Enter`\n",
    "2. **Experiment** with the code examples\n",
    "3. **Try variations** to deepen your understanding\n",
    "4. **Practice** with the exercises provided"
   ]
  },
  {
   "cell_type": "code",
   "execution_count": null,
   "id": "2d712909",
   "metadata": {},
   "outputs": [],
   "source": [
    "# 10.1 Creating and accessing nested lists\n",
    "matrix = [\n",
    "    [1, 2, 3],\n",
    "    [4, 5, 6],\n",
    "    [7, 8, 9]\n",
    "]\n",
    "\n",
    "print(\"2D Matrix:\")\n",
    "for row in matrix:\n",
    "    print(row)\n",
    "\n",
    "# Accessing elements\n",
    "print(f\"\\nElement at [0][1]: {matrix[0][1]}\")  # 2\n",
    "print(f\"Element at [2][0]: {matrix[2][0]}\")    # 7\n",
    "\n",
    "# Getting rows and columns\n",
    "print(f\"First row: {matrix[0]}\")\n",
    "print(f\"Last column: {[row[-1] for row in matrix]}\")\n",
    "\n",
    "# 10.2 Modifying nested lists\n",
    "matrix[1][1] = 99\n",
    "print(f\"\\nAfter changing [1][1] to 99:\")\n",
    "for row in matrix:\n",
    "    print(row)\n",
    "\n",
    "# 10.3 Flattening nested lists\n",
    "nested = [[1, 2], [3, 4, 5], [6]]\n",
    "flattened = [item for sublist in nested for item in sublist]\n",
    "print(f\"\\nNested: {nested}\")\n",
    "print(f\"Flattened: {flattened}\")"
   ]
  }
 ],
 "metadata": {
  "language_info": {
   "name": "python"
  }
 },
 "nbformat": 4,
 "nbformat_minor": 5
}
