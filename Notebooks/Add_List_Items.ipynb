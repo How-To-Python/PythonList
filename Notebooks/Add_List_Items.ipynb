{
 "cells": [
  {
   "cell_type": "markdown",
   "id": "bd9c5cc2",
   "metadata": {},
   "source": [
    "## ➕ Adding Elements to Lists\n",
    "\n",
    "Learn different methods to add elements to your lists.\n",
    "\n",
    "## 🎯 How to Use This Notebook\n",
    "\n",
    "1. **Run each cell** by pressing `Shift + Enter`\n",
    "2. **Experiment** with the code examples\n",
    "3. **Try variations** to deepen your understanding\n",
    "4. **Practice** with the exercises provided"
   ]
  },
  {
   "cell_type": "code",
   "execution_count": null,
   "id": "daf6401c",
   "metadata": {},
   "outputs": [],
   "source": [
    "# 4.1 append() - Add single element to the end\n",
    "colors = [\"red\", \"green\"]\n",
    "print(\"Starting list:\", colors)\n",
    "\n",
    "colors.append(\"blue\")\n",
    "print(\"After append('blue'):\", colors)\n",
    "\n",
    "colors.append(\"yellow\")\n",
    "print(\"After append('yellow'):\", colors)\n",
    "\n",
    "# append() adds the entire object as one element\n",
    "colors.append([\"purple\", \"pink\"])\n",
    "print(\"After append(['purple', 'pink']):\", colors)"
   ]
  },
  {
   "cell_type": "code",
   "execution_count": null,
   "id": "919c3633",
   "metadata": {},
   "outputs": [],
   "source": [
    "# 4.2 insert() - Add element at specific position\n",
    "fruits = [\"apple\", \"cherry\"]\n",
    "print(\"Starting list:\", fruits)\n",
    "\n",
    "fruits.insert(1, \"banana\")  # Insert at index 1\n",
    "print(\"After insert(1, 'banana'):\", fruits)\n",
    "\n",
    "fruits.insert(0, \"orange\")  # Insert at beginning\n",
    "print(\"After insert(0, 'orange'):\", fruits)\n",
    "\n",
    "fruits.insert(10, \"grape\")  # Insert beyond list length (adds to end)\n",
    "print(\"After insert(10, 'grape'):\", fruits)"
   ]
  },
  {
   "cell_type": "code",
   "execution_count": null,
   "id": "4f4bcc64",
   "metadata": {},
   "outputs": [],
   "source": [
    "# 4.3 extend() - Add multiple elements\n",
    "animals = [\"cat\", \"dog\"]\n",
    "print(\"Starting list:\", animals)\n",
    "\n",
    "animals.extend([\"bird\", \"fish\"])\n",
    "print(\"After extend(['bird', 'fish']):\", animals)\n",
    "\n",
    "# extend() with other iterables\n",
    "animals.extend(\"xy\")  # Adds each character\n",
    "print(\"After extend('xy'):\", animals)\n",
    "\n",
    "# Comparison: append vs extend\n",
    "list1 = [1, 2, 3]\n",
    "list2 = [1, 2, 3]\n",
    "\n",
    "list1.append([4, 5])\n",
    "list2.extend([4, 5])\n",
    "\n",
    "print(\"\\nComparison:\")\n",
    "print(\"append([4, 5]):\", list1)\n",
    "print(\"extend([4, 5]):\", list2)"
   ]
  },
  {
   "cell_type": "code",
   "execution_count": null,
   "id": "d40e9d61",
   "metadata": {},
   "outputs": [],
   "source": [
    "# 4.4 Using + operator and += for concatenation\n",
    "list_a = [1, 2, 3]\n",
    "list_b = [4, 5, 6]\n",
    "\n",
    "# + creates a new list\n",
    "new_list = list_a + list_b\n",
    "print(\"list_a + list_b:\", new_list)\n",
    "print(\"Original list_a:\", list_a)  # Unchanged\n",
    "\n",
    "# += modifies the original list (similar to extend)\n",
    "list_a += list_b\n",
    "print(\"After list_a += list_b:\", list_a)\n",
    "\n",
    "# Multiple concatenations\n",
    "result = [1] + [2, 3] + [4, 5]\n",
    "print(\"Multiple concatenation:\", result)"
   ]
  }
 ],
 "metadata": {
  "language_info": {
   "name": "python"
  }
 },
 "nbformat": 4,
 "nbformat_minor": 5
}
