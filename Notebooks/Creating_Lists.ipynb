{
 "cells": [
  {
   "cell_type": "markdown",
   "id": "deeefd86",
   "metadata": {},
   "source": [
    "## 📋 Creating Lists\n",
    "\n",
    "Lists are one of the most versatile data structures in Python. Let's explore different ways to create them.\n",
    "\n",
    "## 🎯 How to Use This Notebook\n",
    "\n",
    "1. **Run each cell** by pressing `Shift + Enter`\n",
    "2. **Experiment** with the code examples\n",
    "3. **Try variations** to deepen your understanding\n",
    "4. **Practice** with the exercises provided"
   ]
  },
  {
   "cell_type": "code",
   "execution_count": null,
   "id": "8e9153e2",
   "metadata": {},
   "outputs": [],
   "source": [
    "# 1.1 Creating Empty Lists\n",
    "empty_list = []\n",
    "also_empty = list()\n",
    "\n",
    "print(\"Empty list using []:\", empty_list)\n",
    "print(\"Empty list using list():\", also_empty)\n",
    "print(\"Type:\", type(empty_list))\n",
    "print(\"Length:\", len(empty_list))"
   ]
  },
  {
   "cell_type": "code",
   "execution_count": null,
   "id": "0181592a",
   "metadata": {},
   "outputs": [],
   "source": [
    "# 1.2 Creating Lists with Initial Values\n",
    "fruits = [\"apple\", \"banana\", \"cherry\"]\n",
    "numbers = [1, 2, 3, 4, 5]\n",
    "mixed = [1, \"hello\", 3.14, True, None]\n",
    "\n",
    "print(\"Fruits list:\", fruits)\n",
    "print(\"Numbers list:\", numbers)\n",
    "print(\"Mixed data types:\", mixed)\n",
    "\n",
    "# Lists can contain any Python objects\n",
    "nested = [[1, 2], [3, 4], [5, 6]]\n",
    "print(\"Nested list:\", nested)"
   ]
  },
  {
   "cell_type": "code",
   "execution_count": null,
   "id": "f2ae0ace",
   "metadata": {},
   "outputs": [],
   "source": [
    "# 1.3 Creating Lists from Other Iterables\n",
    "from_range = list(range(1, 6))        # [1, 2, 3, 4, 5]\n",
    "from_string = list(\"Python\")           # ['P', 'y', 't', 'h', 'o', 'n']\n",
    "from_tuple = list((1, 2, 3))          # [1, 2, 3]\n",
    "\n",
    "print(\"From range(1, 6):\", from_range)\n",
    "print(\"From string 'Python':\", from_string)\n",
    "print(\"From tuple (1, 2, 3):\", from_tuple)\n",
    "\n",
    "# Creating lists with repeated elements\n",
    "zeros = [0] * 5                        # [0, 0, 0, 0, 0]\n",
    "repeated = [\"hello\"] * 3               # ['hello', 'hello', 'hello']\n",
    "\n",
    "print(\"Five zeros:\", zeros)\n",
    "print(\"Repeated 'hello':\", repeated)"
   ]
  },
  {
   "cell_type": "markdown",
   "id": "3072b5d9",
   "metadata": {},
   "source": [
    "### 🔧 Practice Exercise 1\n",
    "Try creating your own lists:\n",
    "1. Create a list of your favorite colors\n",
    "2. Create a list of numbers from 10 to 15 using `range()`\n",
    "3. Create a list with 7 copies of your name"
   ]
  },
  {
   "cell_type": "code",
   "execution_count": null,
   "id": "311c79f2",
   "metadata": {},
   "outputs": [],
   "source": [
    "# Your turn! Complete the exercises below:\n",
    "\n",
    "# 1. Create a list of your favorite colors\n",
    "favorite_colors = [\"blue\", \"green\", \"purple\"]  # Replace with your colors\n",
    "\n",
    "# 2. Create a list of numbers from 10 to 15\n",
    "numbers_10_to_15 = list(range(10, 16))  # Complete this\n",
    "\n",
    "# 3. Create a list with 7 copies of your name\n",
    "my_name_repeated = [\"Shannon\"] * 7  # Replace \"Shannon\" with your name\n",
    "\n",
    "print(\"Favorite colors:\", favorite_colors)\n",
    "print(\"Numbers 10-15:\", numbers_10_to_15)\n",
    "print(\"My name repeated:\", my_name_repeated)"
   ]
  }
 ],
 "metadata": {
  "language_info": {
   "name": "python"
  }
 },
 "nbformat": 4,
 "nbformat_minor": 5
}
