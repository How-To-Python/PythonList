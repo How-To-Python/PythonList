{
 "cells": [
  {
   "cell_type": "markdown",
   "id": "123eea6e",
   "metadata": {},
   "source": [
    "## 🎯 List Comprehensions\n",
    "\n",
    "Create lists efficiently with powerful one-liner syntax.\n",
    "\n",
    "## 🎯 How to Use This Notebook\n",
    "\n",
    "1. **Run each cell** by pressing `Shift + Enter`\n",
    "2. **Experiment** with the code examples\n",
    "3. **Try variations** to deepen your understanding\n",
    "4. **Practice** with the exercises provided"
   ]
  },
  {
   "cell_type": "code",
   "execution_count": null,
   "id": "8dd9ceb4",
   "metadata": {},
   "outputs": [],
   "source": [
    "# 9.1 Basic list comprehensions\n",
    "# Syntax: [expression for item in iterable]\n",
    "\n",
    "# Squares of numbers\n",
    "squares = [x**2 for x in range(1, 6)]\n",
    "print(\"Squares:\", squares)\n",
    "\n",
    "# String operations\n",
    "words = [\"hello\", \"world\", \"python\"]\n",
    "uppercase = [word.upper() for word in words]\n",
    "lengths = [len(word) for word in words]\n",
    "\n",
    "print(\"Uppercase:\", uppercase)\n",
    "print(\"Lengths:\", lengths)\n",
    "\n",
    "# 9.2 List comprehensions with conditions\n",
    "# Syntax: [expression for item in iterable if condition]\n",
    "\n",
    "numbers = range(1, 11)\n",
    "evens = [x for x in numbers if x % 2 == 0]\n",
    "squares_of_evens = [x**2 for x in numbers if x % 2 == 0]\n",
    "\n",
    "print(\"Numbers 1-10:\", list(numbers))\n",
    "print(\"Even numbers:\", evens)\n",
    "print(\"Squares of evens:\", squares_of_evens)\n",
    "\n",
    "# 9.3 Conditional expressions in list comprehensions\n",
    "# Syntax: [expr1 if condition else expr2 for item in iterable]\n",
    "\n",
    "labels = [\"even\" if x % 2 == 0 else \"odd\" for x in range(1, 6)]\n",
    "print(\"Number labels:\", labels)\n",
    "\n",
    "# Complex example\n",
    "data = [-2, -1, 0, 1, 2]\n",
    "processed = [x**2 if x >= 0 else -x for x in data]\n",
    "print(\"Processed data:\", processed)"
   ]
  }
 ],
 "metadata": {
  "language_info": {
   "name": "python"
  }
 },
 "nbformat": 4,
 "nbformat_minor": 5
}
