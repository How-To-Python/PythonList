{
 "cells": [
  {
   "cell_type": "markdown",
   "id": "e71b91b3",
   "metadata": {},
   "source": [
    "## 📍 Accessing List Elements\n",
    "\n",
    "Python uses zero-based indexing, meaning the first element is at index 0.\n",
    "\n",
    "## 🎯 How to Use This Notebook\n",
    "\n",
    "1. **Run each cell** by pressing `Shift + Enter`\n",
    "2. **Experiment** with the code examples\n",
    "3. **Try variations** to deepen your understanding\n",
    "4. **Practice** with the exercises provided"
   ]
  },
  {
   "cell_type": "code",
   "execution_count": null,
   "id": "6c16017c",
   "metadata": {},
   "outputs": [],
   "source": [
    "# 2.1 Positive Indexing (starting from 0)\n",
    "fruits = [\"apple\", \"banana\", \"cherry\", \"date\", \"elderberry\"]\n",
    "\n",
    "print(\"List:\", fruits)\n",
    "print(\"\\nPositive indexing:\")\n",
    "print(\"First fruit (index 0):\", fruits[0])\n",
    "print(\"Second fruit (index 1):\", fruits[1])\n",
    "print(\"Third fruit (index 2):\", fruits[2])\n",
    "print(\"Last fruit (index 4):\", fruits[4])\n",
    "\n",
    "# Visual representation\n",
    "print(\"\\nIndex visualization:\")\n",
    "print(\"Index:  0        1         2        3      4\")\n",
    "print(\"Value:\", fruits)"
   ]
  },
  {
   "cell_type": "code",
   "execution_count": null,
   "id": "45b25683",
   "metadata": {},
   "outputs": [],
   "source": [
    "# 2.2 Negative Indexing (starting from -1)\n",
    "print(\"Negative indexing:\")\n",
    "print(\"Last fruit (index -1):\", fruits[-1])\n",
    "print(\"Second to last (index -2):\", fruits[-2])\n",
    "print(\"Third to last (index -3):\", fruits[-3])\n",
    "\n",
    "# Visual representation of negative indexing\n",
    "print(\"\\nNegative index visualization:\")\n",
    "print(\"Negative: -5       -4        -3       -2     -1\")\n",
    "print(\"Positive:  0        1         2        3      4\")\n",
    "print(\"Value:   \", fruits)"
   ]
  },
  {
   "cell_type": "code",
   "execution_count": null,
   "id": "cea2035e",
   "metadata": {},
   "outputs": [],
   "source": [
    "# 2.3 Checking if elements exist and finding their position\n",
    "print(\"Membership testing:\")\n",
    "print(\"'apple' in fruits:\", \"apple\" in fruits)\n",
    "print(\"'grape' in fruits:\", \"grape\" in fruits)\n",
    "\n",
    "print(\"\\nFinding index of elements:\")\n",
    "print(\"Index of 'cherry':\", fruits.index(\"cherry\"))\n",
    "print(\"Index of 'date':\", fruits.index(\"date\"))\n",
    "\n",
    "# Length of the list\n",
    "print(f\"\\nList length: {len(fruits)}\")\n",
    "print(f\"Valid indices: 0 to {len(fruits)-1}\")\n",
    "print(f\"Valid negative indices: -{len(fruits)} to -1\")"
   ]
  }
 ],
 "metadata": {
  "language_info": {
   "name": "python"
  }
 },
 "nbformat": 4,
 "nbformat_minor": 5
}
