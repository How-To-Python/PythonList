{
 "cells": [
  {
   "cell_type": "markdown",
   "id": "12afa536",
   "metadata": {},
   "source": [
    "## ➖ Removing Elements from Lists\n",
    "\n",
    "Multiple ways to remove elements from your lists.\n",
    "\n",
    "## 🎯 How to Use This Notebook\n",
    "\n",
    "1. **Run each cell** by pressing `Shift + Enter`\n",
    "2. **Experiment** with the code examples\n",
    "3. **Try variations** to deepen your understanding\n",
    "4. **Practice** with the exercises provided"
   ]
  },
  {
   "cell_type": "code",
   "execution_count": null,
   "id": "93e5b8a2",
   "metadata": {},
   "outputs": [],
   "source": [
    "# 5.1 remove() - Remove first occurrence of value\n",
    "fruits = [\"apple\", \"banana\", \"cherry\", \"banana\", \"date\"]\n",
    "print(\"Starting list:\", fruits)\n",
    "\n",
    "fruits.remove(\"banana\")  # Removes first occurrence\n",
    "print(\"After remove('banana'):\", fruits)\n",
    "\n",
    "# remove() raises ValueError if element not found\n",
    "try:\n",
    "    fruits.remove(\"grape\")\n",
    "except ValueError as e:\n",
    "    print(f\"Error: {e}\")\n",
    "\n",
    "# Check before removing\n",
    "if \"cherry\" in fruits:\n",
    "    fruits.remove(\"cherry\")\n",
    "    print(\"After remove('cherry'):\", fruits)"
   ]
  },
  {
   "cell_type": "code",
   "execution_count": null,
   "id": "ad163a72",
   "metadata": {},
   "outputs": [],
   "source": [
    "# 5.2 pop() - Remove and return element\n",
    "numbers = [10, 20, 30, 40, 50]\n",
    "print(\"Starting list:\", numbers)\n",
    "\n",
    "# pop() without argument removes last element\n",
    "last = numbers.pop()\n",
    "print(f\"Popped last element: {last}\")\n",
    "print(\"List after pop():\", numbers)\n",
    "\n",
    "# pop(index) removes element at specific index\n",
    "second = numbers.pop(1)\n",
    "print(f\"Popped element at index 1: {second}\")\n",
    "print(\"List after pop(1):\", numbers)\n",
    "\n",
    "# pop() on empty list raises IndexError\n",
    "empty = []\n",
    "try:\n",
    "    empty.pop()\n",
    "except IndexError as e:\n",
    "    print(f\"Error on empty list: {e}\")"
   ]
  },
  {
   "cell_type": "code",
   "execution_count": null,
   "id": "51fcc630",
   "metadata": {},
   "outputs": [],
   "source": [
    "# 5.3 del statement - Delete elements or slices\n",
    "colors = [\"red\", \"green\", \"blue\", \"yellow\", \"purple\"]\n",
    "print(\"Starting list:\", colors)\n",
    "\n",
    "# Delete single element\n",
    "del colors[1]  # Remove \"green\"\n",
    "print(\"After del colors[1]:\", colors)\n",
    "\n",
    "# Delete slice\n",
    "del colors[1:3]  # Remove \"blue\" and \"yellow\"\n",
    "print(\"After del colors[1:3]:\", colors)\n",
    "\n",
    "# Delete entire list\n",
    "temp_list = [1, 2, 3]\n",
    "del temp_list\n",
    "# print(temp_list)  # This would raise NameError\n",
    "\n",
    "# 5.4 clear() - Remove all elements\n",
    "colors.clear()\n",
    "print(\"After clear():\", colors)"
   ]
  }
 ],
 "metadata": {
  "language_info": {
   "name": "python"
  }
 },
 "nbformat": 4,
 "nbformat_minor": 5
}
