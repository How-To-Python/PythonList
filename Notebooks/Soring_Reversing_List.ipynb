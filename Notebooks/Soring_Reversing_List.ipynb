{
 "cells": [
  {
   "cell_type": "markdown",
   "id": "ce5078d9",
   "metadata": {},
   "source": [
    "## 🔄 Sorting and Reversing Lists\n",
    "\n",
    "Organize your data with sorting and reversing methods.\n",
    "\n",
    "## 🎯 How to Use This Notebook\n",
    "\n",
    "1. **Run each cell** by pressing `Shift + Enter`\n",
    "2. **Experiment** with the code examples\n",
    "3. **Try variations** to deepen your understanding\n",
    "4. **Practice** with the exercises provided"
   ]
  },
  {
   "cell_type": "code",
   "execution_count": null,
   "id": "0fb96936",
   "metadata": {},
   "outputs": [],
   "source": [
    "# 11.1 sort() - Sort list in place\n",
    "numbers = [3, 1, 4, 1, 5, 9, 2]\n",
    "words = [\"banana\", \"apple\", \"cherry\"]\n",
    "\n",
    "print(\"Original numbers:\", numbers)\n",
    "numbers.sort()\n",
    "print(\"After sort():\", numbers)\n",
    "\n",
    "print(\"\\nOriginal words:\", words)\n",
    "words.sort()\n",
    "print(\"After sort():\", words)\n",
    "\n",
    "# Reverse sorting\n",
    "numbers.sort(reverse=True)\n",
    "print(\"Reverse sorted:\", numbers)\n",
    "\n",
    "# 11.2 sorted() - Return new sorted list\n",
    "original = [3, 1, 4, 1, 5]\n",
    "sorted_list = sorted(original)\n",
    "print(f\"\\nOriginal: {original}\")\n",
    "print(f\"Sorted copy: {sorted_list}\")\n",
    "\n",
    "# 11.3 reverse() - Reverse list in place\n",
    "letters = ['a', 'b', 'c', 'd']\n",
    "print(f\"\\nOriginal: {letters}\")\n",
    "letters.reverse()\n",
    "print(f\"After reverse(): {letters}\")\n",
    "\n",
    "# 11.4 Custom sorting with key function\n",
    "students = [\"Alice\", \"bob\", \"Charlie\", \"diana\"]\n",
    "print(f\"\\nStudents: {students}\")\n",
    "\n",
    "# Sort by length\n",
    "students.sort(key=len)\n",
    "print(f\"Sorted by length: {students}\")\n",
    "\n",
    "# Case-insensitive sort\n",
    "students.sort(key=str.lower)\n",
    "print(f\"Case-insensitive sort: {students}\")"
   ]
  }
 ],
 "metadata": {
  "language_info": {
   "name": "python"
  }
 },
 "nbformat": 4,
 "nbformat_minor": 5
}
