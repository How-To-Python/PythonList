{
 "cells": [
  {
   "cell_type": "markdown",
   "id": "41bf9d42",
   "metadata": {},
   "source": [
    "## 🎯 Practice Exercises\n",
    "\n",
    "Try these exercises to test your understanding!\n",
    "\n",
    "## 🎯 How to Use This Notebook\n",
    "\n",
    "1. **Run each cell** by pressing `Shift + Enter`\n",
    "2. **Experiment** with the code examples\n",
    "3. **Try variations** to deepen your understanding\n",
    "4. **Practice** with the exercises provided"
   ]
  },
  {
   "cell_type": "code",
   "execution_count": null,
   "id": "0d0a63d5",
   "metadata": {},
   "outputs": [],
   "source": [
    "# 🎯 Challenge Exercises - Try to solve these!\n",
    "\n",
    "# Exercise 1: Create a list of squares for even numbers from 1 to 20\n",
    "# Your code here:\n",
    "even_squares = [x**2 for x in range(1, 21) if x % 2 == 0]\n",
    "print(\"Even squares:\", even_squares)\n",
    "\n",
    "# Exercise 2: Remove duplicates from a list while preserving order\n",
    "def remove_duplicates(lst):\n",
    "    seen = set()\n",
    "    result = []\n",
    "    for item in lst:\n",
    "        if item not in seen:\n",
    "            result.append(item)\n",
    "            seen.add(item)\n",
    "    return result\n",
    "\n",
    "test_list = [1, 2, 3, 2, 4, 3, 5, 1]\n",
    "unique_list = remove_duplicates(test_list)\n",
    "print(f\"Original: {test_list}\")\n",
    "print(f\"Without duplicates: {unique_list}\")\n",
    "\n",
    "# Exercise 3: Find the longest word in a list\n",
    "words = [\"python\", \"programming\", \"is\", \"awesome\", \"and\", \"fun\"]\n",
    "longest = max(words, key=len)\n",
    "print(f\"Words: {words}\")\n",
    "print(f\"Longest word: '{longest}' (length: {len(longest)})\")\n",
    "\n",
    "# Exercise 4: Create a multiplication table as nested list\n",
    "size = 5\n",
    "multiplication_table = [[i * j for j in range(1, size + 1)] for i in range(1, size + 1)]\n",
    "print(f\"\\n{size}x{size} Multiplication Table:\")\n",
    "for row in multiplication_table:\n",
    "    print(row)"
   ]
  }
 ],
 "metadata": {
  "language_info": {
   "name": "python"
  }
 },
 "nbformat": 4,
 "nbformat_minor": 5
}
