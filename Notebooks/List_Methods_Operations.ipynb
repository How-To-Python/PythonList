{
 "cells": [
  {
   "cell_type": "markdown",
   "id": "e25d00c6",
   "metadata": {},
   "source": [
    "## 🔧 List Methods and Operations\n",
    "\n",
    "Explore essential list methods and operators.\n",
    "\n",
    "## 🎯 How to Use This Notebook\n",
    "\n",
    "1. **Run each cell** by pressing `Shift + Enter`\n",
    "2. **Experiment** with the code examples\n",
    "3. **Try variations** to deepen your understanding\n",
    "4. **Practice** with the exercises provided"
   ]
  },
  {
   "cell_type": "code",
   "execution_count": null,
   "id": "fccaec30",
   "metadata": {},
   "outputs": [],
   "source": [
    "# 7.1 Counting and Finding\n",
    "numbers = [1, 2, 2, 3, 2, 4, 5]\n",
    "print(\"List:\", numbers)\n",
    "\n",
    "# count() - count occurrences\n",
    "print(\"Count of 2:\", numbers.count(2))\n",
    "print(\"Count of 6:\", numbers.count(6))\n",
    "\n",
    "# index() - find first occurrence\n",
    "print(\"Index of 3:\", numbers.index(3))\n",
    "print(\"Index of 2:\", numbers.index(2))  # First occurrence\n",
    "\n",
    "# 7.2 Copying lists\n",
    "original = [1, 2, [3, 4]]\n",
    "\n",
    "# Shallow copy\n",
    "shallow = original.copy()\n",
    "also_shallow = original[:]\n",
    "list_shallow = list(original)\n",
    "\n",
    "print(\"Original:\", original)\n",
    "print(\"Shallow copy:\", shallow)\n",
    "\n",
    "# Demonstrate shallow copy behavior\n",
    "original[2].append(5)\n",
    "print(\"After modifying nested list:\")\n",
    "print(\"Original:\", original)\n",
    "print(\"Shallow copy:\", shallow)  # Also affected!"
   ]
  }
 ],
 "metadata": {
  "language_info": {
   "name": "python"
  }
 },
 "nbformat": 4,
 "nbformat_minor": 5
}
