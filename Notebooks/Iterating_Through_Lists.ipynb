{
 "cells": [
  {
   "cell_type": "markdown",
   "id": "864f18da",
   "metadata": {},
   "source": [
    "## 🔄 Iterating Through Lists\n",
    "\n",
    "Learn different ways to loop through lists.\n",
    "\n",
    "## 🎯 How to Use This Notebook\n",
    "\n",
    "1. **Run each cell** by pressing `Shift + Enter`\n",
    "2. **Experiment** with the code examples\n",
    "3. **Try variations** to deepen your understanding\n",
    "4. **Practice** with the exercises provided"
   ]
  },
  {
   "cell_type": "code",
   "execution_count": null,
   "id": "193cb97e",
   "metadata": {},
   "outputs": [],
   "source": [
    "# 8.1 Basic iteration\n",
    "fruits = [\"apple\", \"banana\", \"cherry\"]\n",
    "\n",
    "print(\"Simple for loop:\")\n",
    "for fruit in fruits:\n",
    "    print(f\"  - {fruit}\")\n",
    "\n",
    "# 8.2 enumerate() - Get index and value\n",
    "print(\"\\nWith enumerate (index, value):\")\n",
    "for index, fruit in enumerate(fruits):\n",
    "    print(f\"  {index}: {fruit}\")\n",
    "\n",
    "print(\"\\nWith enumerate starting at 1:\")\n",
    "for index, fruit in enumerate(fruits, start=1):\n",
    "    print(f\"  {index}. {fruit}\")\n",
    "\n",
    "# 8.3 Using range() and len()\n",
    "print(\"\\nUsing range and indices:\")\n",
    "for i in range(len(fruits)):\n",
    "    print(f\"  Index {i}: {fruits[i]}\")\n",
    "\n",
    "# 8.4 While loop\n",
    "print(\"\\nUsing while loop:\")\n",
    "i = 0\n",
    "while i < len(fruits):\n",
    "    print(f\"  {i}: {fruits[i]}\")\n",
    "    i += 1"
   ]
  }
 ],
 "metadata": {
  "language_info": {
   "name": "python"
  }
 },
 "nbformat": 4,
 "nbformat_minor": 5
}
