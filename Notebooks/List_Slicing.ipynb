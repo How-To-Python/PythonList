{
 "cells": [
  {
   "cell_type": "markdown",
   "id": "a52166ec",
   "metadata": {},
   "source": [
    "## 🔪 List Slicing\n",
    "\n",
    "Slicing allows you to extract a portion of a list using the syntax `list[start:stop:step]`.\n",
    "\n",
    "## 🎯 How to Use This Notebook\n",
    "\n",
    "1. **Run each cell** by pressing `Shift + Enter`\n",
    "2. **Experiment** with the code examples\n",
    "3. **Try variations** to deepen your understanding\n",
    "4. **Practice** with the exercises provided"
   ]
  },
  {
   "cell_type": "code",
   "execution_count": null,
   "id": "2e9710fc",
   "metadata": {},
   "outputs": [],
   "source": [
    "# 3.1 Basic Slicing\n",
    "numbers = [0, 1, 2, 3, 4, 5, 6, 7, 8, 9]\n",
    "print(\"Original list:\", numbers)\n",
    "\n",
    "# Basic slicing: [start:stop]\n",
    "print(\"\\nBasic slicing:\")\n",
    "print(\"numbers[2:6]:\", numbers[2:6])      # Elements 2, 3, 4, 5\n",
    "print(\"numbers[:4]:\", numbers[:4])        # First 4 elements\n",
    "print(\"numbers[6:]:\", numbers[6:])        # From index 6 to end\n",
    "print(\"numbers[:]:\", numbers[:])          # Complete copy\n",
    "\n",
    "# Using negative indices in slicing\n",
    "print(\"\\nUsing negative indices:\")\n",
    "print(\"numbers[-4:]:\", numbers[-4:])      # Last 4 elements\n",
    "print(\"numbers[:-3]:\", numbers[:-3])      # All except last 3\n",
    "print(\"numbers[-7:-2]:\", numbers[-7:-2])  # From -7 to -2"
   ]
  },
  {
   "cell_type": "code",
   "execution_count": null,
   "id": "41e22c46",
   "metadata": {},
   "outputs": [],
   "source": [
    "# 3.2 Step Slicing\n",
    "print(\"Step slicing:\")\n",
    "print(\"numbers[::2]:\", numbers[::2])      # Every 2nd element\n",
    "print(\"numbers[1::2]:\", numbers[1::2])    # Every 2nd element starting from index 1\n",
    "print(\"numbers[::3]:\", numbers[::3])      # Every 3rd element\n",
    "print(\"numbers[2:8:2]:\", numbers[2:8:2])  # Every 2nd element from index 2 to 7\n",
    "\n",
    "# Reverse slicing\n",
    "print(\"\\nReverse slicing:\")\n",
    "print(\"numbers[::-1]:\", numbers[::-1])    # Reverse the entire list\n",
    "print(\"numbers[::-2]:\", numbers[::-2])    # Every 2nd element in reverse\n",
    "print(\"numbers[8:2:-1]:\", numbers[8:2:-1])  # From index 8 to 3 in reverse"
   ]
  }
 ],
 "metadata": {
  "language_info": {
   "name": "python"
  }
 },
 "nbformat": 4,
 "nbformat_minor": 5
}
