{
 "cells": [
  {
   "cell_type": "markdown",
   "id": "fff0d259",
   "metadata": {},
   "source": [
    "## ✏️ Modifying List Elements\n",
    "\n",
    "Change existing elements in your lists.\n",
    "\n",
    "## 🎯 How to Use This Notebook\n",
    "\n",
    "1. **Run each cell** by pressing `Shift + Enter`\n",
    "2. **Experiment** with the code examples\n",
    "3. **Try variations** to deepen your understanding\n",
    "4. **Practice** with the exercises provided"
   ]
  },
  {
   "cell_type": "code",
   "execution_count": null,
   "id": "e9685d0c",
   "metadata": {},
   "outputs": [],
   "source": [
    "# 6.1 Modifying single elements\n",
    "fruits = [\"apple\", \"banana\", \"cherry\"]\n",
    "print(\"Original:\", fruits)\n",
    "\n",
    "# Change single element\n",
    "fruits[1] = \"blueberry\"\n",
    "print(\"After fruits[1] = 'blueberry':\", fruits)\n",
    "\n",
    "# Change using negative index\n",
    "fruits[-1] = \"coconut\"\n",
    "print(\"After fruits[-1] = 'coconut':\", fruits)\n",
    "\n",
    "# 6.2 Modifying multiple elements using slicing\n",
    "numbers = [1, 2, 3, 4, 5, 6]\n",
    "print(\"\\nOriginal numbers:\", numbers)\n",
    "\n",
    "# Replace slice with same length\n",
    "numbers[1:4] = [10, 20, 30]\n",
    "print(\"After numbers[1:4] = [10, 20, 30]:\", numbers)\n",
    "\n",
    "# Replace slice with different length\n",
    "numbers[2:4] = [100, 200, 300, 400]\n",
    "print(\"After numbers[2:4] = [100, 200, 300, 400]:\", numbers)"
   ]
  }
 ],
 "metadata": {
  "language_info": {
   "name": "python"
  }
 },
 "nbformat": 4,
 "nbformat_minor": 5
}
